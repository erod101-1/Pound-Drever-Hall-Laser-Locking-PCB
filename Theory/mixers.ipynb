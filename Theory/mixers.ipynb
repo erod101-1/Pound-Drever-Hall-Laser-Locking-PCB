{
 "cells": [
  {
   "cell_type": "markdown",
   "id": "e95ecaa3",
   "metadata": {},
   "source": [
    "## Background\n",
    "- Modulated Electric field ignoring higher order bessel terms\n",
    "$$E = E_0 \\left(F(\\omega) J_0(\\beta)e^{j\\omega t} + F(\\omega) J_{1}(\\beta)e^{j(\\omega + \\Omega) t}  - F(\\omega) J_{1}(\\beta)e^{j(\\omega - \\Omega) t} \\right)$$\n",
    "- Power from the photodiode (Only considering the frequencies at $\\Omega$)\n",
    "$$F_- = F(\\omega - \\Omega) \\,\\,\\, F_+ = F(\\omega + \\Omega) \\,\\,\\, F = F(\\omega)$$\n",
    "\n",
    "$$P = E E^* = 2E_0^2 J_0J_1\\left( \\Re\\{F^*F_+ - FF_{-}^*\\}\\cos(\\Omega t) + \\Im\\{F^*F_+ - FF_{-}^*\\}\\sin(\\Omega t)  \\right) $$\n",
    "\n",
    "$$ C =  2E_0^2 J_0J_1 \\,\\,\\, A(\\omega) =  C\\Re\\{F^*F_+ - FF_{-}^*\\} \\,\\,\\, B(\\omega) =  C\\Im\\{F^*F_+ - FF_{-}^*\\} $$\n",
    "\n",
    "$$P = A(\\omega) \\cos(\\Omega t) + B(\\omega) \\sin(\\Omega t)$$"
   ]
  },
  {
   "cell_type": "markdown",
   "id": "d05e9778",
   "metadata": {},
   "source": [
    "# Phase delay\n",
    "$$\\gamma = F^*F_+ - FF_{-}^* = \\gamma_r + j\\gamma_i$$\n",
    "Phase delay $\\phi$ is a rotation of our signal $\\gamma$,\n",
    "$$ \\begin{bmatrix}\n",
    " \\gamma'_r \\\\\n",
    " \\gamma'_i\n",
    "\\end{bmatrix} = \\begin{bmatrix}\n",
    " \\cos(\\phi)& -\\sin(\\phi)  \\\\\n",
    " \\sin(\\phi)& \\cos(\\phi)  \\\\\n",
    "\\end{bmatrix}  \\begin{bmatrix}\n",
    " \\gamma_r \\\\\n",
    " \\gamma_i\n",
    "\\end{bmatrix}$$\n",
    "$$\\gamma'_r = \\cos(\\phi)\\gamma_r - \\sin(\\phi)\\gamma_i$$\n",
    "$$\\gamma'_i = \\sin(\\phi)\\gamma_r + \\cos(\\phi)\\gamma_i$$\n",
    "\n",
    "$$P = C\\left\\{\\left(\\cos(\\phi)\\gamma_r - \\sin(\\phi)\\gamma_i\\right)\\cos(\\Omega t) + \\left(\\cos(\\phi)\\gamma_r - \\sin(\\phi)\\gamma_i\\right)\\sin(\\Omega t)\\right\\}$$\n",
    "We can simplify to,\n",
    "$$P = C\\left(\\gamma_r \\cos(\\Omega t - \\phi) + \\gamma_i \\sin(\\Omega t - \\phi)\\right)$$\n",
    "$$\\boxed{P = A(\\omega)\\cos(\\Omega t - \\phi) + B(\\omega)\\sin(\\Omega t - \\phi)}$$"
   ]
  },
  {
   "cell_type": "markdown",
   "id": "967baf17",
   "metadata": {},
   "source": [
    "## IQ Mixer\n",
    "### I\n",
    "$$I(\\omega) = I_1(\\omega) + I_2(\\omega)$$\n",
    "$$I_1(\\omega) = A(\\omega)\\cos(\\Omega t - \\phi)\\cos(\\Omega t) = \\left(\\frac{1}{2}\\right)A(\\omega)\\left(\\cos(\\phi) + \\cos(2\\Omega t + \\phi)\\right)$$\n",
    "$$I_2(\\omega) = B(\\omega)\\sin(\\Omega t - \\phi)\\cos(\\Omega t) = \\left(\\frac{1}{2}\\right)B(\\omega)\\left(\\sin(2\\Omega t - \\phi) - \\sin(\\phi)\\right)$$\n",
    "$$I_L = \\text{LPF}\\left\\{I(\\omega)\\right\\} = \\left(\\frac{1}{2}\\right)\\left(A(\\omega)\\cos(\\phi) - B(\\omega)\\sin(\\phi)\\right)$$\n",
    "### Q\n",
    "$$Q(\\omega) = Q_1(\\omega) + Q_2(\\omega)$$\n",
    "$$Q_1(\\omega) = A(\\omega)\\cos(\\Omega t - \\phi)\\sin(\\Omega t)\n",
    "= \\left(\\frac{1}{2}\\right)A(\\omega)\\left(\\sin(2\\Omega t - \\phi) + \\sin(\\phi)\\right)$$\n",
    "$$Q_2(\\omega) = B(\\omega)\\sin(\\Omega t - \\phi)\\sin(\\Omega t)\n",
    "= \\left(\\frac{1}{2}\\right)B(\\omega)\\left(\\cos(\\phi) - \\cos(2\\Omega t - \\phi)\\right)$$\n",
    "$$Q_L = \\text{LPF}\\left\\{Q(\\omega)\\right\\}\n",
    "= \\left(\\frac{1}{2}\\right)\\left(A(\\omega)\\sin(\\phi) + B(\\omega)\\cos(\\phi)\\right)$$\n",
    "### RAM Rejection\n",
    "$$\n",
    "\\begin{bmatrix}\n",
    "I_L\\\\\n",
    "Q_L\n",
    "\\end{bmatrix}\n",
    "=\n",
    "\\frac{1}{2}\n",
    "\\begin{bmatrix}\n",
    "\\cos\\phi & -\\sin\\phi \\\\\n",
    "\\sin\\phi & \\phantom{-}\\cos\\phi\n",
    "\\end{bmatrix}\n",
    "\\begin{bmatrix}\n",
    "A(\\omega) \\\\\n",
    "B(\\omega)\n",
    "\\end{bmatrix}\n",
    "$$\n",
    "We can see the RAM leakage into Q,\n",
    "$$Q_{RAM} = A(\\omega)\\sin(\\phi)$$\n",
    "We wish to reject the RAM, by a rotating by an angle $\\theta$ such that RAM is fully rejected on the $Q$ port,\n",
    "$$\n",
    "\\begin{bmatrix}\n",
    "I' \\\\[4pt] Q'\n",
    "\\end{bmatrix}\n",
    "=\n",
    "\\begin{bmatrix}\n",
    "\\cos\\theta & -\\sin\\theta \\\\\n",
    "\\sin\\theta & \\ \\cos\\theta\n",
    "\\end{bmatrix}\n",
    "\\begin{bmatrix}\n",
    "I_L\\\\[4pt] Q_L\n",
    "\\end{bmatrix}.\n",
    "$$\n",
    "After some more tedious algreba,\n",
    "$$\\boxed{Q'=\\tfrac{1}{2}\\Big(A\\,\\sin(\\phi-\\theta)\\;+\\;B\\,\\cos(\\phi-\\theta)\\Big)}$$"
   ]
  },
  {
   "cell_type": "markdown",
   "id": "dd6e12fd",
   "metadata": {},
   "source": [
    "## RAM Tuning\n",
    "Tune the carrier far off resonance such that we measure pure RAM and see whats coming out of the LPF I and Q,\n",
    "$$Q' = 0 = I_L\\sin(\\theta) + Q_L\\cos(\\theta) \\implies \\theta_{opt} = \\boxed{\\text{arctan}\\left(\\frac{-Q_L}{I_L}\\right)}$$\n",
    "$$\\implies \\phi - \\theta_{opt} = 0  \\implies \\boxed{\\text{Full RAM rejection in Q}}$$\n"
   ]
  }
 ],
 "metadata": {
  "language_info": {
   "name": "python"
  }
 },
 "nbformat": 4,
 "nbformat_minor": 5
}
